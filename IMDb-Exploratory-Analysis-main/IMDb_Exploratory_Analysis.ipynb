{
  "cells": [
    {
      "cell_type": "code",
      "source": [
        ""
      ],
      "metadata": {
        "id": "wOGK4fAlorJh"
      },
      "execution_count": null,
      "outputs": []
    },
    {
      "cell_type": "markdown",
      "metadata": {
        "id": "nxsjlWtA0217"
      },
      "source": [
        "# Contelligenz Assignment - IMDb Analysis\n",
        "\n"
      ]
    },
    {
      "cell_type": "code",
      "execution_count": null,
      "metadata": {
        "id": "JSfMNqDk022D"
      },
      "outputs": [],
      "source": [
        "import requests\n",
        "from bs4 import BeautifulSoup\n",
        "\n",
        "def get_topics_page(url):\n",
        "    \n",
        "    \n",
        "    response=requests.get(url)\n",
        "    # check successfull response\n",
        "    if response.status_code != 200:\n",
        "        raise Exception(f'Failed to load page {topic_url}')\n",
        "    # Parse using BeautifulSoup\n",
        "    doc = BeautifulSoup(response.text, 'html.parser')\n",
        "    return doc\n",
        "\n"
      ]
    },
    {
      "cell_type": "code",
      "execution_count": null,
      "metadata": {
        "id": "5B9c1sWZ022F"
      },
      "outputs": [],
      "source": [
        "topic_url = 'https://www.imdb.com/search/title/?groups=top_1000&sort=user_rating,desc&count=100&start=000&ref_=adv_next'\n",
        "doc = get_topics_page(topic_url)"
      ]
    },
    {
      "cell_type": "code",
      "execution_count": null,
      "metadata": {
        "colab": {
          "base_uri": "https://localhost:8080/"
        },
        "id": "u8S4R9yX022H",
        "outputId": "7a717378-b399-42b8-a3f5-5ea88eb2f7d2"
      },
      "outputs": [
        {
          "output_type": "execute_result",
          "data": {
            "text/plain": [
              "<title>IMDb \"Top 1000\"\n",
              "(Sorted by IMDb Rating Descending) - IMDb</title>"
            ]
          },
          "metadata": {},
          "execution_count": 3
        }
      ],
      "source": [
        "doc.find('title')"
      ]
    },
    {
      "cell_type": "markdown",
      "source": [
        "### TASK **1**"
      ],
      "metadata": {
        "id": "-hC6pO5b2Jm8"
      }
    },
    {
      "cell_type": "markdown",
      "metadata": {
        "id": "OvdrLsso022N"
      },
      "source": [
        "### To get URL's of movie"
      ]
    },
    {
      "cell_type": "code",
      "execution_count": null,
      "metadata": {
        "id": "G8frzP6y022O"
      },
      "outputs": [],
      "source": [
        "def get_movie_url(doc):\n",
        "    url_selector=\"lister-item-header\"           \n",
        "    movie_url_tags=doc.find_all('h3',{'class':url_selector})\n",
        "    movie_url_tagss=[]\n",
        "    base_url = 'https://www.imdb.com/'\n",
        "    for tag in movie_url_tags:\n",
        "        movie_url_tagss.append('https://www.imdb.com/' + tag.find('a')['href'])\n",
        "    return movie_url_tagss"
      ]
    },
    {
      "cell_type": "code",
      "execution_count": null,
      "metadata": {
        "id": "YIDl2WWa022P"
      },
      "outputs": [],
      "source": [
        "urls = get_movie_url(doc)"
      ]
    },
    {
      "cell_type": "code",
      "execution_count": null,
      "metadata": {
        "colab": {
          "base_uri": "https://localhost:8080/"
        },
        "id": "K7LaRnuZ022P",
        "outputId": "23152894-fc5b-4eda-9eed-245f321f7dd8"
      },
      "outputs": [
        {
          "output_type": "execute_result",
          "data": {
            "text/plain": [
              "['https://www.imdb.com//title/tt0111161/',\n",
              " 'https://www.imdb.com//title/tt0068646/',\n",
              " 'https://www.imdb.com//title/tt0468569/',\n",
              " 'https://www.imdb.com//title/tt0167260/',\n",
              " 'https://www.imdb.com//title/tt0108052/']"
            ]
          },
          "metadata": {},
          "execution_count": 6
        }
      ],
      "source": [
        "urls[:5]"
      ]
    },
    {
      "cell_type": "markdown",
      "source": [
        "###**TASK 2**\n"
      ],
      "metadata": {
        "id": "xc-0NqRQ2O-Y"
      }
    },
    {
      "cell_type": "markdown",
      "metadata": {
        "id": "veZ9jzG8022J"
      },
      "source": [
        "### To get title of movie"
      ]
    },
    {
      "cell_type": "code",
      "execution_count": null,
      "metadata": {
        "id": "5tquQPHS022K"
      },
      "outputs": [],
      "source": [
        "def get_movie_titles(doc):\n",
        "    \n",
        "    selection_class=\"lister-item-header\"\n",
        "    movie_title_tags=doc.find_all('h3',{'class':selection_class})\n",
        "    movie_titles=[]\n",
        "\n",
        "    for tag in movie_title_tags:\n",
        "        title = tag.find('a').text\n",
        "        movie_titles.append(title)\n",
        "        \n",
        "        \n",
        "    return movie_titles"
      ]
    },
    {
      "cell_type": "code",
      "execution_count": null,
      "metadata": {
        "id": "KtqMfslW022L"
      },
      "outputs": [],
      "source": [
        "titles = get_movie_titles(doc)"
      ]
    },
    {
      "cell_type": "code",
      "execution_count": null,
      "metadata": {
        "colab": {
          "base_uri": "https://localhost:8080/"
        },
        "id": "Wauz4dQ5022M",
        "outputId": "6c5401dd-94f1-4801-add8-e03ec2e7654f"
      },
      "outputs": [
        {
          "output_type": "execute_result",
          "data": {
            "text/plain": [
              "['刺激1995', '教父', '黑暗騎士', '魔戒三部曲：王者再臨', '辛德勒的名單']"
            ]
          },
          "metadata": {},
          "execution_count": 9
        }
      ],
      "source": [
        "titles[:5]"
      ]
    },
    {
      "cell_type": "markdown",
      "metadata": {
        "id": "JpUq8iEm022M"
      },
      "source": [
        "Similarly we defined functions for movie url, ratings, certification, duration and  year"
      ]
    },
    {
      "cell_type": "markdown",
      "metadata": {
        "id": "Mt3Ksr1V022Q"
      },
      "source": [
        "### To get movie duration"
      ]
    },
    {
      "cell_type": "code",
      "execution_count": null,
      "metadata": {
        "id": "YwEyvHNU022R"
      },
      "outputs": [],
      "source": [
        "def get_movie_duration(doc):\n",
        "    \n",
        "    selection_class=\"runtime\"\n",
        "    movie_duration_tags=doc.find_all('span',{'class':selection_class})\n",
        "    movie_duration=[]\n",
        "\n",
        "    for tag in movie_duration_tags:\n",
        "        duration = tag.text[:-4]\n",
        "        movie_duration.append(duration)\n",
        "        \n",
        "        \n",
        "    return movie_duration"
      ]
    },
    {
      "cell_type": "code",
      "execution_count": null,
      "metadata": {
        "id": "TU-CHhf7022S"
      },
      "outputs": [],
      "source": [
        "durations = get_movie_duration(doc)"
      ]
    },
    {
      "cell_type": "code",
      "execution_count": null,
      "metadata": {
        "colab": {
          "base_uri": "https://localhost:8080/"
        },
        "id": "BR443TNd022T",
        "outputId": "2281e200-3c34-43cd-88ca-5b6fd15395aa"
      },
      "outputs": [
        {
          "output_type": "execute_result",
          "data": {
            "text/plain": [
              "['142', '175', '152', '201', '195']"
            ]
          },
          "metadata": {},
          "execution_count": 12
        }
      ],
      "source": [
        "durations[:5]"
      ]
    },
    {
      "cell_type": "markdown",
      "metadata": {
        "id": "Hw6j3LEX022U"
      },
      "source": [
        "### To get certification of movie"
      ]
    },
    {
      "cell_type": "code",
      "execution_count": null,
      "metadata": {
        "id": "3mBoEKZz022U"
      },
      "outputs": [],
      "source": [
        "def get_movie_certification(doc):\n",
        "    \n",
        "    selection_class=\"lister-item-content\"\n",
        "    movie_details_tags = doc.find_all('div',{'class':selection_class})\n",
        "    movie_certification=[]\n",
        "    \n",
        "\n",
        "    for detail_tag in movie_details_tags:\n",
        "        \n",
        "        certification_tag = detail_tag.find('span',{'class':'certificate'})\n",
        "        if certification_tag:\n",
        "            movie_certification.append(certification_tag.text)\n",
        "        else:\n",
        "            movie_certification.append('NA')                                                           \n",
        "        \n",
        "    return movie_certification"
      ]
    },
    {
      "cell_type": "code",
      "execution_count": null,
      "metadata": {
        "id": "HFSLhfNo022V"
      },
      "outputs": [],
      "source": [
        "certifications = get_movie_certification(doc)"
      ]
    },
    {
      "cell_type": "code",
      "execution_count": null,
      "metadata": {
        "colab": {
          "base_uri": "https://localhost:8080/"
        },
        "id": "op5oKv4Q022W",
        "outputId": "05bcaf63-555e-4179-d4d4-59848a0f8a66"
      },
      "outputs": [
        {
          "output_type": "execute_result",
          "data": {
            "text/plain": [
              "['R-12', 'R-15', 'PG-12', 'PG-13', 'R-15']"
            ]
          },
          "metadata": {},
          "execution_count": 15
        }
      ],
      "source": [
        "\n",
        "certifications[:5]"
      ]
    },
    {
      "cell_type": "markdown",
      "metadata": {
        "id": "YhgTr8hW022W"
      },
      "source": [
        "To get year of movie"
      ]
    },
    {
      "cell_type": "code",
      "execution_count": null,
      "metadata": {
        "code_folding": [],
        "id": "sUhJf02S022X"
      },
      "outputs": [],
      "source": [
        "def get_movie_year(doc):\n",
        "    year_selector = \"lister-item-year text-muted unbold\"           \n",
        "    movie_year_tags=doc.find_all('span',{'class':year_selector})\n",
        "    movie_year_tagss=[]\n",
        "    for tag in movie_year_tags:\n",
        "        movie_year_tagss.append(tag.get_text().strip()[1:5])\n",
        "    return movie_year_tagss"
      ]
    },
    {
      "cell_type": "code",
      "execution_count": null,
      "metadata": {
        "id": "em0Z8BTZ022Y"
      },
      "outputs": [],
      "source": [
        "years = get_movie_year(doc)"
      ]
    },
    {
      "cell_type": "code",
      "execution_count": null,
      "metadata": {
        "colab": {
          "base_uri": "https://localhost:8080/"
        },
        "id": "7T_XcM3S022Y",
        "outputId": "74062f28-830d-4047-8f09-5cdea5580f87"
      },
      "outputs": [
        {
          "output_type": "execute_result",
          "data": {
            "text/plain": [
              "['1994', '1972', '2008', '2003', '1993']"
            ]
          },
          "metadata": {},
          "execution_count": 18
        }
      ],
      "source": [
        "years[:5]"
      ]
    },
    {
      "cell_type": "markdown",
      "source": [
        "To get Cast of Movie\n"
      ],
      "metadata": {
        "id": "G9MzW5kF3Yw4"
      }
    },
    {
      "cell_type": "code",
      "source": [
        "def get_movie_cast(doc):\n",
        "    cast_selector = \"cast\"           \n",
        "    movie_cast_tags=doc.find_all('span',{'class':cast_selector})\n",
        "    movie_cast_tagss=[]\n",
        "    for tag in movie_cast_tags:\n",
        "        movie_cast_tagss.append(tag.get_text().strip()[1:5])\n",
        "    return movie_cast_tagss"
      ],
      "metadata": {
        "id": "76sq7hOG21sF"
      },
      "execution_count": null,
      "outputs": []
    },
    {
      "cell_type": "code",
      "source": [
        "cast = get_movie_cast(doc)"
      ],
      "metadata": {
        "id": "x8xiaYm83Ksx"
      },
      "execution_count": null,
      "outputs": []
    },
    {
      "cell_type": "code",
      "source": [
        "\n",
        "cast[:5]"
      ],
      "metadata": {
        "colab": {
          "base_uri": "https://localhost:8080/"
        },
        "id": "FnoPdNBm3OOV",
        "outputId": "c69b14d7-3e31-44ed-daa4-cd45ea14b7ef"
      },
      "execution_count": null,
      "outputs": [
        {
          "output_type": "execute_result",
          "data": {
            "text/plain": [
              "[]"
            ]
          },
          "metadata": {},
          "execution_count": 25
        }
      ]
    },
    {
      "cell_type": "markdown",
      "metadata": {
        "id": "FLGh50oj022Z"
      },
      "source": [
        "### To get genre of movie"
      ]
    },
    {
      "cell_type": "code",
      "execution_count": null,
      "metadata": {
        "id": "gscJiaja022Z"
      },
      "outputs": [],
      "source": [
        "def get_movie_genre(doc):\n",
        "    genre_selector=\"genre\"            \n",
        "    movie_genre_tags=doc.find_all('span',{'class':genre_selector})\n",
        "    movie_genre_tagss=[]\n",
        "    for tag in movie_genre_tags:\n",
        "        movie_genre_tagss.append(tag.get_text().strip())\n",
        "    return movie_genre_tagss"
      ]
    },
    {
      "cell_type": "code",
      "execution_count": null,
      "metadata": {
        "id": "LO_me-OZ022a"
      },
      "outputs": [],
      "source": [
        "genres = get_movie_genre(doc)"
      ]
    },
    {
      "cell_type": "code",
      "execution_count": null,
      "metadata": {
        "id": "68uMRllQ022b",
        "outputId": "a5fa6412-5043-4612-ab08-cff293b13316"
      },
      "outputs": [
        {
          "data": {
            "text/plain": [
              "['Crime, Drama', 'Drama', 'Crime, Drama', 'Drama', 'Action, Crime, Drama']"
            ]
          },
          "execution_count": 21,
          "metadata": {},
          "output_type": "execute_result"
        }
      ],
      "source": [
        "genres[:5]"
      ]
    },
    {
      "cell_type": "markdown",
      "source": [
        "To get Crew of the movie"
      ],
      "metadata": {
        "id": "k3vqopPGIHhH"
      }
    },
    {
      "cell_type": "code",
      "source": [
        "def get_movie_crew(doc):\n",
        "    crew_selector=\"crew\"            \n",
        "    movie_crew_tags=doc.find_all('span',{'class':crew_selector})\n",
        "    movie_crew_tagss=[]\n",
        "    for tag in movie_crew_tags:\n",
        "        movie_crew_tagss.append(tag.get_text().strip[1:5])\n",
        "    return movie_crew_tagss"
      ],
      "metadata": {
        "id": "MobKummHHN-Z"
      },
      "execution_count": null,
      "outputs": []
    },
    {
      "cell_type": "code",
      "source": [
        "crews = get_movie_crew(doc)"
      ],
      "metadata": {
        "id": "mSqxahpVHcUv"
      },
      "execution_count": null,
      "outputs": []
    },
    {
      "cell_type": "code",
      "source": [
        "crews[:5]"
      ],
      "metadata": {
        "colab": {
          "base_uri": "https://localhost:8080/"
        },
        "id": "VRiyc1oBHe-k",
        "outputId": "f9cabb0c-79d8-459a-d6fa-ba8bb0690af4"
      },
      "execution_count": null,
      "outputs": [
        {
          "output_type": "execute_result",
          "data": {
            "text/plain": [
              "[]"
            ]
          },
          "metadata": {},
          "execution_count": 34
        }
      ]
    },
    {
      "cell_type": "markdown",
      "metadata": {
        "id": "md_2Z4Qm022b"
      },
      "source": [
        "### To get ratings of movie"
      ]
    },
    {
      "cell_type": "code",
      "execution_count": null,
      "metadata": {
        "id": "IFQPSEHk022c"
      },
      "outputs": [],
      "source": [
        "def get_movie_rating(doc):\n",
        "    rating_selector=\"inline-block ratings-imdb-rating\"            \n",
        "    movie_rating_tags=doc.find_all('div',{'class':rating_selector})\n",
        "    movie_rating_tagss=[]\n",
        "    for tag in movie_rating_tags:\n",
        "        movie_rating_tagss.append(tag.get_text().strip())\n",
        "    return movie_rating_tagss"
      ]
    },
    {
      "cell_type": "code",
      "execution_count": null,
      "metadata": {
        "id": "H3RfMVjL022d"
      },
      "outputs": [],
      "source": [
        "ratings = get_movie_rating(doc)"
      ]
    },
    {
      "cell_type": "code",
      "execution_count": null,
      "metadata": {
        "id": "Wuybo3Id022d",
        "outputId": "05ae5450-2354-483a-85d2-c78d69d6b5b4"
      },
      "outputs": [
        {
          "data": {
            "text/plain": [
              "['9.5', '9.3', '9.2', '9.1', '9.0']"
            ]
          },
          "execution_count": 24,
          "metadata": {},
          "output_type": "execute_result"
        }
      ],
      "source": [
        "ratings[:5]"
      ]
    },
    {
      "cell_type": "markdown",
      "metadata": {
        "id": "FJKBPCPY022e"
      },
      "source": [
        "Let's put all together into a single function"
      ]
    },
    {
      "cell_type": "code",
      "execution_count": null,
      "metadata": {
        "id": "hzmi_1Wl022e"
      },
      "outputs": [],
      "source": [
        "import pandas as pd"
      ]
    },
    {
      "cell_type": "code",
      "execution_count": null,
      "metadata": {
        "id": "HMqhEc3H022f"
      },
      "outputs": [],
      "source": [
        "def all_pages(num=10):\n",
        "# Let's we create a dictionary to store data of all movies\n",
        "    movies_dict={\n",
        "        'titles':[],\n",
        "        'genre':[],\n",
        "        'duration':[],\n",
        "        'rating':[],\n",
        "        'year':[],\n",
        "        'certification':[],\n",
        "        'url':[]\n",
        "    }\n",
        "  # We have to scrap more than one page so we want urls of all pages with the help of loop we can get all urls\n",
        "    for i in range(1,num*110,100):\n",
        "       \n",
        "        url = 'https://www.imdb.com/search/title/?groups=top_1000&sort=user_rating,desc&count=100&start='+str(i)+'&ref_=adv_next'\n",
        "        doc = get_topics_page(url)\n",
        "   \n",
        "        \n",
        "        movies_dict['titles'] += get_movie_titles(doc)\n",
        "        movies_dict['url'] += get_movie_url(doc)\n",
        "        movies_dict['certification'] += get_movie_certification(doc)\n",
        "        movies_dict['rating'] += get_movie_rating(doc)\n",
        "        movies_dict['duration'] += get_movie_duration(doc)\n",
        "        movies_dict['year'] += get_movie_year(doc)\n",
        "        movies_dict['genre'] += get_movie_genre(doc)   \n",
        "        \n",
        "    return pd.DataFrame(movies_dict)\n"
      ]
    },
    {
      "cell_type": "code",
      "execution_count": null,
      "metadata": {
        "id": "Fj83svNy022g"
      },
      "outputs": [],
      "source": [
        "movies = all_pages()"
      ]
    },
    {
      "cell_type": "code",
      "execution_count": null,
      "metadata": {
        "id": "lWfa0XNy022g"
      },
      "outputs": [],
      "source": [
        "movies.to_csv('movies.csv',index=None)"
      ]
    },
    {
      "cell_type": "markdown",
      "metadata": {
        "id": "SJLzvx7s022h"
      },
      "source": [
        "movies csv file has been created, which contains the data that we've scrapped"
      ]
    },
    {
      "cell_type": "code",
      "execution_count": null,
      "metadata": {
        "id": "hktlLdVP022h"
      },
      "outputs": [],
      "source": [
        "dataframe = pd.read_csv('movies.csv')"
      ]
    },
    {
      "cell_type": "code",
      "execution_count": null,
      "metadata": {
        "id": "7sHhdVI8022h",
        "outputId": "b50c9aae-7c1f-4d92-fdcc-62d16fc01fbd"
      },
      "outputs": [
        {
          "data": {
            "text/html": [
              "<div>\n",
              "<style scoped>\n",
              "    .dataframe tbody tr th:only-of-type {\n",
              "        vertical-align: middle;\n",
              "    }\n",
              "\n",
              "    .dataframe tbody tr th {\n",
              "        vertical-align: top;\n",
              "    }\n",
              "\n",
              "    .dataframe thead th {\n",
              "        text-align: right;\n",
              "    }\n",
              "</style>\n",
              "<table border=\"1\" class=\"dataframe\">\n",
              "  <thead>\n",
              "    <tr style=\"text-align: right;\">\n",
              "      <th></th>\n",
              "      <th>titles</th>\n",
              "      <th>genre</th>\n",
              "      <th>duration</th>\n",
              "      <th>rating</th>\n",
              "      <th>year</th>\n",
              "      <th>certification</th>\n",
              "      <th>url</th>\n",
              "    </tr>\n",
              "  </thead>\n",
              "  <tbody>\n",
              "    <tr>\n",
              "      <th>0</th>\n",
              "      <td>Jai Bhim</td>\n",
              "      <td>Crime, Drama</td>\n",
              "      <td>164</td>\n",
              "      <td>9.5</td>\n",
              "      <td>2021</td>\n",
              "      <td>NaN</td>\n",
              "      <td>https://www.imdb.com//title/tt15097216/</td>\n",
              "    </tr>\n",
              "    <tr>\n",
              "      <th>1</th>\n",
              "      <td>The Shawshank Redemption</td>\n",
              "      <td>Drama</td>\n",
              "      <td>142</td>\n",
              "      <td>9.3</td>\n",
              "      <td>1994</td>\n",
              "      <td>R</td>\n",
              "      <td>https://www.imdb.com//title/tt0111161/</td>\n",
              "    </tr>\n",
              "    <tr>\n",
              "      <th>2</th>\n",
              "      <td>The Godfather</td>\n",
              "      <td>Crime, Drama</td>\n",
              "      <td>175</td>\n",
              "      <td>9.2</td>\n",
              "      <td>1972</td>\n",
              "      <td>R</td>\n",
              "      <td>https://www.imdb.com//title/tt0068646/</td>\n",
              "    </tr>\n",
              "    <tr>\n",
              "      <th>3</th>\n",
              "      <td>Soorarai Pottru</td>\n",
              "      <td>Drama</td>\n",
              "      <td>153</td>\n",
              "      <td>9.1</td>\n",
              "      <td>2020</td>\n",
              "      <td>TV-MA</td>\n",
              "      <td>https://www.imdb.com//title/tt10189514/</td>\n",
              "    </tr>\n",
              "    <tr>\n",
              "      <th>4</th>\n",
              "      <td>The Dark Knight</td>\n",
              "      <td>Action, Crime, Drama</td>\n",
              "      <td>152</td>\n",
              "      <td>9.0</td>\n",
              "      <td>2008</td>\n",
              "      <td>PG-13</td>\n",
              "      <td>https://www.imdb.com//title/tt0468569/</td>\n",
              "    </tr>\n",
              "    <tr>\n",
              "      <th>...</th>\n",
              "      <td>...</td>\n",
              "      <td>...</td>\n",
              "      <td>...</td>\n",
              "      <td>...</td>\n",
              "      <td>...</td>\n",
              "      <td>...</td>\n",
              "      <td>...</td>\n",
              "    </tr>\n",
              "    <tr>\n",
              "      <th>1995</th>\n",
              "      <td>Drishyam</td>\n",
              "      <td>Crime, Drama, Thriller</td>\n",
              "      <td>160</td>\n",
              "      <td>8.3</td>\n",
              "      <td>2013</td>\n",
              "      <td>Not Rated</td>\n",
              "      <td>https://www.imdb.com//title/tt3417422/</td>\n",
              "    </tr>\n",
              "    <tr>\n",
              "      <th>1996</th>\n",
              "      <td>The Hunt</td>\n",
              "      <td>Drama</td>\n",
              "      <td>115</td>\n",
              "      <td>8.3</td>\n",
              "      <td>2012</td>\n",
              "      <td>R</td>\n",
              "      <td>https://www.imdb.com//title/tt2106476/</td>\n",
              "    </tr>\n",
              "    <tr>\n",
              "      <th>1997</th>\n",
              "      <td>A Separation</td>\n",
              "      <td>Drama</td>\n",
              "      <td>123</td>\n",
              "      <td>8.3</td>\n",
              "      <td>2011</td>\n",
              "      <td>PG-13</td>\n",
              "      <td>https://www.imdb.com//title/tt1832382/</td>\n",
              "    </tr>\n",
              "    <tr>\n",
              "      <th>1998</th>\n",
              "      <td>Incendies</td>\n",
              "      <td>Drama, Mystery, War</td>\n",
              "      <td>131</td>\n",
              "      <td>8.3</td>\n",
              "      <td>2010</td>\n",
              "      <td>R</td>\n",
              "      <td>https://www.imdb.com//title/tt1255953/</td>\n",
              "    </tr>\n",
              "    <tr>\n",
              "      <th>1999</th>\n",
              "      <td>The Father</td>\n",
              "      <td>Drama, Mystery</td>\n",
              "      <td>97</td>\n",
              "      <td>8.3</td>\n",
              "      <td>I) (</td>\n",
              "      <td>PG-13</td>\n",
              "      <td>https://www.imdb.com//title/tt10272386/</td>\n",
              "    </tr>\n",
              "  </tbody>\n",
              "</table>\n",
              "<p>2000 rows × 7 columns</p>\n",
              "</div>"
            ],
            "text/plain": [
              "                        titles                   genre  duration  rating  \\\n",
              "0                     Jai Bhim            Crime, Drama       164     9.5   \n",
              "1     The Shawshank Redemption                   Drama       142     9.3   \n",
              "2                The Godfather            Crime, Drama       175     9.2   \n",
              "3              Soorarai Pottru                   Drama       153     9.1   \n",
              "4              The Dark Knight    Action, Crime, Drama       152     9.0   \n",
              "...                        ...                     ...       ...     ...   \n",
              "1995                  Drishyam  Crime, Drama, Thriller       160     8.3   \n",
              "1996                  The Hunt                   Drama       115     8.3   \n",
              "1997              A Separation                   Drama       123     8.3   \n",
              "1998                 Incendies     Drama, Mystery, War       131     8.3   \n",
              "1999                The Father          Drama, Mystery        97     8.3   \n",
              "\n",
              "      year certification                                      url  \n",
              "0     2021           NaN  https://www.imdb.com//title/tt15097216/  \n",
              "1     1994             R   https://www.imdb.com//title/tt0111161/  \n",
              "2     1972             R   https://www.imdb.com//title/tt0068646/  \n",
              "3     2020         TV-MA  https://www.imdb.com//title/tt10189514/  \n",
              "4     2008         PG-13   https://www.imdb.com//title/tt0468569/  \n",
              "...    ...           ...                                      ...  \n",
              "1995  2013     Not Rated   https://www.imdb.com//title/tt3417422/  \n",
              "1996  2012             R   https://www.imdb.com//title/tt2106476/  \n",
              "1997  2011         PG-13   https://www.imdb.com//title/tt1832382/  \n",
              "1998  2010             R   https://www.imdb.com//title/tt1255953/  \n",
              "1999  I) (         PG-13  https://www.imdb.com//title/tt10272386/  \n",
              "\n",
              "[2000 rows x 7 columns]"
            ]
          },
          "execution_count": 32,
          "metadata": {},
          "output_type": "execute_result"
        }
      ],
      "source": [
        "dataframe"
      ]
    },
    {
      "cell_type": "code",
      "source": [
        "!pip3 install imdbpy"
      ],
      "metadata": {
        "colab": {
          "base_uri": "https://localhost:8080/"
        },
        "id": "pUOAgwVuOQU-",
        "outputId": "97614379-f231-44ba-cdd1-32e8f6e16b6d"
      },
      "execution_count": null,
      "outputs": [
        {
          "output_type": "stream",
          "name": "stdout",
          "text": [
            "Looking in indexes: https://pypi.org/simple, https://us-python.pkg.dev/colab-wheels/public/simple/\n",
            "Collecting imdbpy\n",
            "  Downloading IMDbPY-2021.4.18-py3-none-any.whl (298 kB)\n",
            "\u001b[K     |████████████████████████████████| 298 kB 4.2 MB/s \n",
            "\u001b[?25hRequirement already satisfied: SQLAlchemy in /usr/local/lib/python3.7/dist-packages (from imdbpy) (1.4.36)\n",
            "Requirement already satisfied: lxml in /usr/local/lib/python3.7/dist-packages (from imdbpy) (4.2.6)\n",
            "Requirement already satisfied: greenlet!=0.4.17 in /usr/local/lib/python3.7/dist-packages (from SQLAlchemy->imdbpy) (1.1.2)\n",
            "Requirement already satisfied: importlib-metadata in /usr/local/lib/python3.7/dist-packages (from SQLAlchemy->imdbpy) (4.11.3)\n",
            "Requirement already satisfied: zipp>=0.5 in /usr/local/lib/python3.7/dist-packages (from importlib-metadata->SQLAlchemy->imdbpy) (3.8.0)\n",
            "Requirement already satisfied: typing-extensions>=3.6.4 in /usr/local/lib/python3.7/dist-packages (from importlib-metadata->SQLAlchemy->imdbpy) (4.2.0)\n",
            "Installing collected packages: imdbpy\n",
            "Successfully installed imdbpy-2021.4.18\n"
          ]
        }
      ]
    },
    {
      "cell_type": "code",
      "source": [
        "# importing the module \n",
        "import imdb\n",
        "\n",
        "# creating instance of IMDb\n",
        "ia = imdb.IMDb()\n",
        "\n",
        "# name\n",
        "name = \"Udta punjab\"\n",
        "\n",
        "# searching the name\n",
        "search = ia.search_movie(name)\n",
        "\n",
        "\n",
        "# loop for printing the name and id\n",
        "for i in range(len(search)):\n",
        "\t\n",
        "\t# getting the id\n",
        "\tid = search[i].movieID\n",
        "\t\n",
        "\t# printing it\n",
        "\tprint(search[i]['title'] + \" : \" + id )\n",
        "\n"
      ],
      "metadata": {
        "colab": {
          "base_uri": "https://localhost:8080/"
        },
        "id": "CZ0hDIqoNevY",
        "outputId": "d9a464e9-a5ff-424a-d523-c3e999ba77d5"
      },
      "execution_count": null,
      "outputs": [
        {
          "output_type": "stream",
          "name": "stdout",
          "text": [
            "Udta Punjab : 4434004\n",
            "Diljit Dosanjh (Udta Punjab) : 6574338\n",
            "Put Ta Punjab : 14702992\n",
            "Priyanka Talking about Udta Punjab On TV (2016) (Podcast Episode) - Morning No.1 Saurabh : 19338626\n"
          ]
        }
      ]
    },
    {
      "cell_type": "code",
      "source": [
        ""
      ],
      "metadata": {
        "id": "l9_vScfpNebL"
      },
      "execution_count": null,
      "outputs": []
    },
    {
      "cell_type": "markdown",
      "source": [
        "###**TASK 3**"
      ],
      "metadata": {
        "id": "Q96Cd16KMxWI"
      }
    },
    {
      "cell_type": "code",
      "source": [
        "# importing the module\n",
        "import imdb\n",
        "\n",
        "# importing date class from datetime module\n",
        "from datetime import date\n",
        "  \n",
        "# creating the date object of today's date\n",
        "todays_date = date.today()\n",
        "curr_year = todays_date.year\n",
        "\n",
        "# creating instance of IMDb\n",
        "ia = imdb.IMDb()\n",
        "\n",
        "# getting the movie with id\n",
        "search = ia.get_movie(\"0111161\")\n",
        "\n",
        "# getting movie year\n",
        "year = search['year']\n",
        "\n",
        "# printing movie name and year\n",
        "print(search['title'] + \" : \" + str(curr_year-year))\n",
        "\n"
      ],
      "metadata": {
        "colab": {
          "base_uri": "https://localhost:8080/"
        },
        "id": "TaOhEKO_MwVw",
        "outputId": "00471ac4-d2de-48cd-e960-323d311ee632"
      },
      "execution_count": null,
      "outputs": [
        {
          "output_type": "stream",
          "name": "stdout",
          "text": [
            "The Shawshank Redemption : 28\n"
          ]
        }
      ]
    },
    {
      "cell_type": "markdown",
      "source": [
        "Votes+Ratings\n"
      ],
      "metadata": {
        "id": "TwjtwkcIPw_4"
      }
    },
    {
      "cell_type": "code",
      "source": [
        "# importing the module\n",
        "import imdb\n",
        "  \n",
        "# creating instance of IMDb\n",
        "ia = imdb.IMDb()\n",
        "  \n",
        "# id\n",
        "code = \"6077448\"\n",
        "  \n",
        "# getting information\n",
        "series = ia.get_movie(code)\n",
        "  \n",
        "# getting votes of the series\n",
        "votes = series.data['votes']\n",
        "rating=series.data['rating']\n",
        "  \n",
        "# printing the object i.e name\n",
        "print(series)\n",
        "  \n",
        "# print the votes\n",
        "print(str(votes+rating))"
      ],
      "metadata": {
        "colab": {
          "base_uri": "https://localhost:8080/"
        },
        "id": "6ef3OuBlOhd9",
        "outputId": "ca8f0e55-19c1-4e01-c956-c5f2a1bbf630"
      },
      "execution_count": null,
      "outputs": [
        {
          "output_type": "stream",
          "name": "stdout",
          "text": [
            "Sacred Games\n",
            "85768.5\n"
          ]
        }
      ]
    },
    {
      "cell_type": "markdown",
      "source": [
        "###**TASK 4**"
      ],
      "metadata": {
        "id": "kfx15h0-SG3u"
      }
    },
    {
      "cell_type": "code",
      "source": [
        "database = pd.read_csv('Outputs/movies_database.csv')"
      ],
      "metadata": {
        "id": "5uhkOJMXP_Gb",
        "colab": {
          "base_uri": "https://localhost:8080/",
          "height": 164
        },
        "outputId": "06ab3ca7-6b65-4c35-cdd2-a8add9712bb7"
      },
      "execution_count": null,
      "outputs": [
        {
          "output_type": "error",
          "ename": "NameError",
          "evalue": "ignored",
          "traceback": [
            "\u001b[0;31m---------------------------------------------------------------------------\u001b[0m",
            "\u001b[0;31mNameError\u001b[0m                                 Traceback (most recent call last)",
            "\u001b[0;32m<ipython-input-42-b55f55d32936>\u001b[0m in \u001b[0;36m<module>\u001b[0;34m()\u001b[0m\n\u001b[0;32m----> 1\u001b[0;31m \u001b[0mdb\u001b[0m \u001b[0;34m=\u001b[0m \u001b[0mpd\u001b[0m\u001b[0;34m.\u001b[0m\u001b[0mread_csv\u001b[0m\u001b[0;34m(\u001b[0m\u001b[0;34m'Outputs/movies_database.csv'\u001b[0m\u001b[0;34m)\u001b[0m\u001b[0;34m\u001b[0m\u001b[0;34m\u001b[0m\u001b[0m\n\u001b[0m",
            "\u001b[0;31mNameError\u001b[0m: name 'pd' is not defined"
          ]
        }
      ]
    },
    {
      "cell_type": "code",
      "source": [
        "Genres = database['Genres'].tolist()\n",
        "Actors = database['Cast'].tolist()"
      ],
      "metadata": {
        "id": "tIPp-ID0XZ4_"
      },
      "execution_count": null,
      "outputs": []
    },
    {
      "cell_type": "code",
      "source": [
        "db['Cast'][0]"
      ],
      "metadata": {
        "colab": {
          "base_uri": "https://localhost:8080/",
          "height": 164
        },
        "id": "BQyBzmN6XaQB",
        "outputId": "13fc0532-1e10-4cbd-ca6d-a6eeaf3a657e"
      },
      "execution_count": null,
      "outputs": [
        {
          "output_type": "error",
          "ename": "NameError",
          "evalue": "ignored",
          "traceback": [
            "\u001b[0;31m---------------------------------------------------------------------------\u001b[0m",
            "\u001b[0;31mNameError\u001b[0m                                 Traceback (most recent call last)",
            "\u001b[0;32m<ipython-input-43-a0c73fc79232>\u001b[0m in \u001b[0;36m<module>\u001b[0;34m()\u001b[0m\n\u001b[0;32m----> 1\u001b[0;31m \u001b[0mdb\u001b[0m\u001b[0;34m[\u001b[0m\u001b[0;34m'Cast'\u001b[0m\u001b[0;34m]\u001b[0m\u001b[0;34m[\u001b[0m\u001b[0;36m0\u001b[0m\u001b[0;34m]\u001b[0m\u001b[0;34m\u001b[0m\u001b[0;34m\u001b[0m\u001b[0m\n\u001b[0m",
            "\u001b[0;31mNameError\u001b[0m: name 'db' is not defined"
          ]
        }
      ]
    },
    {
      "cell_type": "code",
      "source": [
        "movie_genras = []\n",
        "movie_cast = []\n",
        "\n",
        "for i in Actors:\n",
        "  try:\n",
        "    ii = i.strip('][').split(', ')\n",
        "    for actor in ii:\n",
        "      movie_cast.append(actor)\n",
        "  except:\n",
        "    movie_cast.append('NaN')\n",
        "\n",
        "for j in Genres:\n",
        "  try:\n",
        "    jj = j.strip('][').split(', ')\n",
        "    for genre in jj:\n",
        "      movie_genras.append(genre)\n",
        "  except:\n",
        "    movie_genras.append('NaN')\n",
        "\n",
        "df = pd.DataFrame(list(zip(movie_cast, movie_genras)), columns =['Actor', 'Genre'])\n",
        "df['Genre'] = df[df.G != 'Url not found!!']\n",
        "df.head()"
      ],
      "metadata": {
        "colab": {
          "base_uri": "https://localhost:8080/",
          "height": 232
        },
        "id": "AFBzm0M4XbJs",
        "outputId": "be206ff3-ffbf-4aa2-c3e8-8f5346e18b54"
      },
      "execution_count": null,
      "outputs": [
        {
          "output_type": "error",
          "ename": "NameError",
          "evalue": "ignored",
          "traceback": [
            "\u001b[0;31m---------------------------------------------------------------------------\u001b[0m",
            "\u001b[0;31mNameError\u001b[0m                                 Traceback (most recent call last)",
            "\u001b[0;32m<ipython-input-44-1757063968a9>\u001b[0m in \u001b[0;36m<module>\u001b[0;34m()\u001b[0m\n\u001b[1;32m      2\u001b[0m \u001b[0mmovie_cast\u001b[0m \u001b[0;34m=\u001b[0m \u001b[0;34m[\u001b[0m\u001b[0;34m]\u001b[0m\u001b[0;34m\u001b[0m\u001b[0;34m\u001b[0m\u001b[0m\n\u001b[1;32m      3\u001b[0m \u001b[0;34m\u001b[0m\u001b[0m\n\u001b[0;32m----> 4\u001b[0;31m \u001b[0;32mfor\u001b[0m \u001b[0mi\u001b[0m \u001b[0;32min\u001b[0m \u001b[0mActors\u001b[0m\u001b[0;34m:\u001b[0m\u001b[0;34m\u001b[0m\u001b[0;34m\u001b[0m\u001b[0m\n\u001b[0m\u001b[1;32m      5\u001b[0m   \u001b[0;32mtry\u001b[0m\u001b[0;34m:\u001b[0m\u001b[0;34m\u001b[0m\u001b[0;34m\u001b[0m\u001b[0m\n\u001b[1;32m      6\u001b[0m     \u001b[0mii\u001b[0m \u001b[0;34m=\u001b[0m \u001b[0mi\u001b[0m\u001b[0;34m.\u001b[0m\u001b[0mstrip\u001b[0m\u001b[0;34m(\u001b[0m\u001b[0;34m']['\u001b[0m\u001b[0;34m)\u001b[0m\u001b[0;34m.\u001b[0m\u001b[0msplit\u001b[0m\u001b[0;34m(\u001b[0m\u001b[0;34m', '\u001b[0m\u001b[0;34m)\u001b[0m\u001b[0;34m\u001b[0m\u001b[0;34m\u001b[0m\u001b[0m\n",
            "\u001b[0;31mNameError\u001b[0m: name 'Actors' is not defined"
          ]
        }
      ]
    },
    {
      "cell_type": "code",
      "source": [
        "df['Genre'].value_counts()"
      ],
      "metadata": {
        "colab": {
          "base_uri": "https://localhost:8080/",
          "height": 164
        },
        "id": "lH5tHQT9XgAg",
        "outputId": "2ed34074-bff5-40db-e4bc-611532b23650"
      },
      "execution_count": null,
      "outputs": [
        {
          "output_type": "error",
          "ename": "NameError",
          "evalue": "ignored",
          "traceback": [
            "\u001b[0;31m---------------------------------------------------------------------------\u001b[0m",
            "\u001b[0;31mNameError\u001b[0m                                 Traceback (most recent call last)",
            "\u001b[0;32m<ipython-input-45-26d37a6ae9fb>\u001b[0m in \u001b[0;36m<module>\u001b[0;34m()\u001b[0m\n\u001b[0;32m----> 1\u001b[0;31m \u001b[0mdf\u001b[0m\u001b[0;34m[\u001b[0m\u001b[0;34m'Genre'\u001b[0m\u001b[0;34m]\u001b[0m\u001b[0;34m.\u001b[0m\u001b[0mvalue_counts\u001b[0m\u001b[0;34m(\u001b[0m\u001b[0;34m)\u001b[0m\u001b[0;34m\u001b[0m\u001b[0;34m\u001b[0m\u001b[0m\n\u001b[0m",
            "\u001b[0;31mNameError\u001b[0m: name 'df' is not defined"
          ]
        }
      ]
    },
    {
      "cell_type": "code",
      "source": [
        "import matplotlib.pyplot as plt\n",
        "df['Genre'].value_counts().plot(kind= 'bar')\n",
        "plt.xlabel(\"Genre\")\n",
        "plt.ylabel(\"No. of movies\")\n",
        "plt.savefig('Plots/Top_Genres.png')\n",
        "plt.show()"
      ],
      "metadata": {
        "colab": {
          "base_uri": "https://localhost:8080/",
          "height": 232
        },
        "id": "1H1mJ5CNXgaW",
        "outputId": "6f5004cf-19ba-41f5-b468-2a046869d472"
      },
      "execution_count": null,
      "outputs": [
        {
          "output_type": "error",
          "ename": "NameError",
          "evalue": "ignored",
          "traceback": [
            "\u001b[0;31m---------------------------------------------------------------------------\u001b[0m",
            "\u001b[0;31mNameError\u001b[0m                                 Traceback (most recent call last)",
            "\u001b[0;32m<ipython-input-46-110d529ecc97>\u001b[0m in \u001b[0;36m<module>\u001b[0;34m()\u001b[0m\n\u001b[1;32m      1\u001b[0m \u001b[0;32mimport\u001b[0m \u001b[0mmatplotlib\u001b[0m\u001b[0;34m.\u001b[0m\u001b[0mpyplot\u001b[0m \u001b[0;32mas\u001b[0m \u001b[0mplt\u001b[0m\u001b[0;34m\u001b[0m\u001b[0;34m\u001b[0m\u001b[0m\n\u001b[0;32m----> 2\u001b[0;31m \u001b[0mdf\u001b[0m\u001b[0;34m[\u001b[0m\u001b[0;34m'Genre'\u001b[0m\u001b[0;34m]\u001b[0m\u001b[0;34m.\u001b[0m\u001b[0mvalue_counts\u001b[0m\u001b[0;34m(\u001b[0m\u001b[0;34m)\u001b[0m\u001b[0;34m.\u001b[0m\u001b[0mplot\u001b[0m\u001b[0;34m(\u001b[0m\u001b[0mkind\u001b[0m\u001b[0;34m=\u001b[0m \u001b[0;34m'bar'\u001b[0m\u001b[0;34m)\u001b[0m\u001b[0;34m\u001b[0m\u001b[0;34m\u001b[0m\u001b[0m\n\u001b[0m\u001b[1;32m      3\u001b[0m \u001b[0mplt\u001b[0m\u001b[0;34m.\u001b[0m\u001b[0mxlabel\u001b[0m\u001b[0;34m(\u001b[0m\u001b[0;34m\"Genre\"\u001b[0m\u001b[0;34m)\u001b[0m\u001b[0;34m\u001b[0m\u001b[0;34m\u001b[0m\u001b[0m\n\u001b[1;32m      4\u001b[0m \u001b[0mplt\u001b[0m\u001b[0;34m.\u001b[0m\u001b[0mylabel\u001b[0m\u001b[0;34m(\u001b[0m\u001b[0;34m\"No. of movies\"\u001b[0m\u001b[0;34m)\u001b[0m\u001b[0;34m\u001b[0m\u001b[0;34m\u001b[0m\u001b[0m\n\u001b[1;32m      5\u001b[0m \u001b[0mplt\u001b[0m\u001b[0;34m.\u001b[0m\u001b[0msavefig\u001b[0m\u001b[0;34m(\u001b[0m\u001b[0;34m'Plots/Top_Genres.png'\u001b[0m\u001b[0;34m)\u001b[0m\u001b[0;34m\u001b[0m\u001b[0;34m\u001b[0m\u001b[0m\n",
            "\u001b[0;31mNameError\u001b[0m: name 'df' is not defined"
          ]
        }
      ]
    },
    {
      "cell_type": "code",
      "source": [
        "df['Actors'].value_counts()[:10]"
      ],
      "metadata": {
        "colab": {
          "base_uri": "https://localhost:8080/",
          "height": 164
        },
        "id": "odrCq_4vXh50",
        "outputId": "e2ad609d-6aca-418d-b9ff-7f3748c87820"
      },
      "execution_count": null,
      "outputs": [
        {
          "output_type": "error",
          "ename": "NameError",
          "evalue": "ignored",
          "traceback": [
            "\u001b[0;31m---------------------------------------------------------------------------\u001b[0m",
            "\u001b[0;31mNameError\u001b[0m                                 Traceback (most recent call last)",
            "\u001b[0;32m<ipython-input-47-f72a9342fe03>\u001b[0m in \u001b[0;36m<module>\u001b[0;34m()\u001b[0m\n\u001b[0;32m----> 1\u001b[0;31m \u001b[0mdf\u001b[0m\u001b[0;34m[\u001b[0m\u001b[0;34m'Actors'\u001b[0m\u001b[0;34m]\u001b[0m\u001b[0;34m.\u001b[0m\u001b[0mvalue_counts\u001b[0m\u001b[0;34m(\u001b[0m\u001b[0;34m)\u001b[0m\u001b[0;34m[\u001b[0m\u001b[0;34m:\u001b[0m\u001b[0;36m10\u001b[0m\u001b[0;34m]\u001b[0m\u001b[0;34m\u001b[0m\u001b[0;34m\u001b[0m\u001b[0m\n\u001b[0m",
            "\u001b[0;31mNameError\u001b[0m: name 'df' is not defined"
          ]
        }
      ]
    },
    {
      "cell_type": "code",
      "source": [
        "df['Actors'].value_counts()[:10].plot(kind= 'bar')\n",
        "plt.xlabel(\"Actor\")\n",
        "plt.ylabel(\"No. of movies\")\n",
        "plt.savefig('Plots/Top10_Actors.png')\n",
        "plt.show()"
      ],
      "metadata": {
        "colab": {
          "base_uri": "https://localhost:8080/",
          "height": 232
        },
        "id": "xF2W4VZjXjph",
        "outputId": "c20f326b-56ba-4525-8b2b-2c178db8e706"
      },
      "execution_count": null,
      "outputs": [
        {
          "output_type": "error",
          "ename": "NameError",
          "evalue": "ignored",
          "traceback": [
            "\u001b[0;31m---------------------------------------------------------------------------\u001b[0m",
            "\u001b[0;31mNameError\u001b[0m                                 Traceback (most recent call last)",
            "\u001b[0;32m<ipython-input-48-e42a8dc955ed>\u001b[0m in \u001b[0;36m<module>\u001b[0;34m()\u001b[0m\n\u001b[0;32m----> 1\u001b[0;31m \u001b[0mdf\u001b[0m\u001b[0;34m[\u001b[0m\u001b[0;34m'Actors'\u001b[0m\u001b[0;34m]\u001b[0m\u001b[0;34m.\u001b[0m\u001b[0mvalue_counts\u001b[0m\u001b[0;34m(\u001b[0m\u001b[0;34m)\u001b[0m\u001b[0;34m[\u001b[0m\u001b[0;34m:\u001b[0m\u001b[0;36m10\u001b[0m\u001b[0;34m]\u001b[0m\u001b[0;34m.\u001b[0m\u001b[0mplot\u001b[0m\u001b[0;34m(\u001b[0m\u001b[0mkind\u001b[0m\u001b[0;34m=\u001b[0m \u001b[0;34m'bar'\u001b[0m\u001b[0;34m)\u001b[0m\u001b[0;34m\u001b[0m\u001b[0;34m\u001b[0m\u001b[0m\n\u001b[0m\u001b[1;32m      2\u001b[0m \u001b[0mplt\u001b[0m\u001b[0;34m.\u001b[0m\u001b[0mxlabel\u001b[0m\u001b[0;34m(\u001b[0m\u001b[0;34m\"Actor\"\u001b[0m\u001b[0;34m)\u001b[0m\u001b[0;34m\u001b[0m\u001b[0;34m\u001b[0m\u001b[0m\n\u001b[1;32m      3\u001b[0m \u001b[0mplt\u001b[0m\u001b[0;34m.\u001b[0m\u001b[0mylabel\u001b[0m\u001b[0;34m(\u001b[0m\u001b[0;34m\"No. of movies\"\u001b[0m\u001b[0;34m)\u001b[0m\u001b[0;34m\u001b[0m\u001b[0;34m\u001b[0m\u001b[0m\n\u001b[1;32m      4\u001b[0m \u001b[0mplt\u001b[0m\u001b[0;34m.\u001b[0m\u001b[0msavefig\u001b[0m\u001b[0;34m(\u001b[0m\u001b[0;34m'Plots/Top10_Actors.png'\u001b[0m\u001b[0;34m)\u001b[0m\u001b[0;34m\u001b[0m\u001b[0;34m\u001b[0m\u001b[0m\n\u001b[1;32m      5\u001b[0m \u001b[0mplt\u001b[0m\u001b[0;34m.\u001b[0m\u001b[0mshow\u001b[0m\u001b[0;34m(\u001b[0m\u001b[0;34m)\u001b[0m\u001b[0;34m\u001b[0m\u001b[0;34m\u001b[0m\u001b[0m\n",
            "\u001b[0;31mNameError\u001b[0m: name 'df' is not defined"
          ]
        }
      ]
    },
    {
      "cell_type": "markdown",
      "source": [
        "###**TASK 5**"
      ],
      "metadata": {
        "id": "FP01j7LQY2aV"
      }
    },
    {
      "cell_type": "code",
      "source": [
        "import requests\n",
        "\n",
        "URL = \"https://imdb-api.com/en/API/Top250Movies/k_szhey6rb\"\n",
        "\n",
        "r = requests.get(url=URL)\n",
        "n = 10\n",
        "\n",
        "result = r.json()\n",
        "for i in range(n):\n",
        "    filtered_rating = result['items'][i]['imDbRating']\n",
        "    filtered_year = int(result['items'][i]['year'])\n",
        "    filtered_results = result['items'][i]['title']\n",
        "    print(\"Movie name: \", filtered_results, \"Year of release: \",\n",
        "          filtered_year, \"IMdB rating: \", filtered_rating)"
      ],
      "metadata": {
        "id": "jS-odSQwZS-z"
      },
      "execution_count": null,
      "outputs": []
    }
  ],
  "metadata": {
    "kernelspec": {
      "display_name": "Python 3 (ipykernel)",
      "language": "python",
      "name": "python3"
    },
    "language_info": {
      "codemirror_mode": {
        "name": "ipython",
        "version": 3
      },
      "file_extension": ".py",
      "mimetype": "text/x-python",
      "name": "python",
      "nbconvert_exporter": "python",
      "pygments_lexer": "ipython3",
      "version": "3.9.6"
    },
    "colab": {
      "name": "IMDb Exploratory Analysis",
      "provenance": []
    }
  },
  "nbformat": 4,
  "nbformat_minor": 0
}